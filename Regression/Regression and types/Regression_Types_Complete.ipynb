{
 "cells": [
  {
   "cell_type": "markdown",
   "id": "f2daf45e",
   "metadata": {},
   "source": [
    "# 📘 All Types of Regression in One Notebook\n",
    "This notebook covers various types of regression with explanations and code examples."
   ]
  },
  {
   "cell_type": "markdown",
   "id": "8c9ad473",
   "metadata": {},
   "source": [
    "## 📌 List of Regression Types to be Covered\n",
    "1. Linear Regression\n",
    "2. Multiple Linear Regression\n",
    "3. Polynomial Regression\n",
    "4. Ridge Regression\n",
    "5. Lasso Regression\n",
    "6. Elastic Net\n",
    "7. Logistic Regression\n",
    "8. Stepwise Regression\n",
    "9. Quantile Regression\n",
    "10. Bayesian Regression\n",
    "11. Support Vector Regression (SVR)\n",
    "12. Decision Tree Regression\n",
    "13. Random Forest Regression\n",
    "14. Gradient Boosting Regression"
   ]
  }
 ],
 "metadata": {},
 "nbformat": 4,
 "nbformat_minor": 5
}
